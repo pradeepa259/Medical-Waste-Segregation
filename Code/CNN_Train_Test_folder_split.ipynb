{
  "nbformat": 4,
  "nbformat_minor": 0,
  "metadata": {
    "colab": {
      "provenance": []
    },
    "kernelspec": {
      "name": "python3",
      "display_name": "Python 3"
    },
    "language_info": {
      "name": "python"
    }
  },
  "cells": [
    {
      "cell_type": "code",
      "execution_count": null,
      "metadata": {
        "id": "PATPsKWEl6mI",
        "colab": {
          "base_uri": "https://localhost:8080/"
        },
        "outputId": "0b38a1fe-de5f-4f45-a6b0-1f5313aca563"
      },
      "outputs": [
        {
          "output_type": "stream",
          "name": "stdout",
          "text": [
            "Mounted at /content/drive\n"
          ]
        }
      ],
      "source": [
        "from google.colab import drive\n",
        "drive.mount('/content/drive')"
      ]
    },
    {
      "cell_type": "code",
      "source": [
        "pip install split-folders"
      ],
      "metadata": {
        "id": "pTKhbcOYoZ26",
        "colab": {
          "base_uri": "https://localhost:8080/"
        },
        "outputId": "2d646f62-e004-4007-fdce-5bd6e547e4fe"
      },
      "execution_count": null,
      "outputs": [
        {
          "output_type": "stream",
          "name": "stdout",
          "text": [
            "Looking in indexes: https://pypi.org/simple, https://us-python.pkg.dev/colab-wheels/public/simple/\n",
            "Collecting split-folders\n",
            "  Downloading split_folders-0.5.1-py3-none-any.whl (8.4 kB)\n",
            "Installing collected packages: split-folders\n",
            "Successfully installed split-folders-0.5.1\n"
          ]
        }
      ]
    },
    {
      "cell_type": "code",
      "source": [
        "import splitfolders"
      ],
      "metadata": {
        "id": "JHjj5es6C8Sb"
      },
      "execution_count": null,
      "outputs": []
    },
    {
      "cell_type": "code",
      "source": [
        "splitfolders.ratio(\"/content/drive/MyDrive/dataset\", output=\"/content/drive/MyDrive/imageset\",\n",
        "                   seed=1337, ratio=(.8, .1, .1), group_prefix=None, move=False) "
      ],
      "metadata": {
        "colab": {
          "base_uri": "https://localhost:8080/"
        },
        "id": "kWWS3XNDDHTg",
        "outputId": "79464429-b49d-4c25-b464-11b8adbf2121"
      },
      "execution_count": null,
      "outputs": [
        {
          "output_type": "stream",
          "name": "stderr",
          "text": [
            "Copying files: 9340 files [06:49, 22.80 files/s]\n"
          ]
        }
      ]
    },
    {
      "cell_type": "code",
      "source": [
        "Train test split of images"
      ],
      "metadata": {
        "id": "x-xCkseazV71"
      },
      "execution_count": null,
      "outputs": []
    },
    {
      "cell_type": "code",
      "source": [
        "splitfolders.ratio(\"/content/drive/MyDrive/newdata/train\", output=\"/content/drive/MyDrive/sem8dataset/Dataset\",\n",
        "                   seed=1337, ratio=(.8, .1, .1), group_prefix=None, move=False) "
      ],
      "metadata": {
        "colab": {
          "base_uri": "https://localhost:8080/"
        },
        "id": "ivzBbWSfrNuX",
        "outputId": "7d9cb143-b086-433a-ac66-e5775af29e93"
      },
      "execution_count": null,
      "outputs": [
        {
          "output_type": "stream",
          "name": "stderr",
          "text": [
            "Copying files: 928 files [00:22, 41.73 files/s]\n"
          ]
        }
      ]
    }
  ]
}