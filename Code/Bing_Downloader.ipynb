{
  "cells": [
    {
      "cell_type": "code",
      "execution_count": null,
      "metadata": {
        "colab": {
          "base_uri": "https://localhost:8080/"
        },
        "id": "yIEfhnJzKKKf",
        "outputId": "c1c02f56-1a3a-429b-9f32-85acdd1a6da8"
      },
      "outputs": [
        {
          "output_type": "stream",
          "name": "stdout",
          "text": [
            "Looking in indexes: https://pypi.org/simple, https://us-python.pkg.dev/colab-wheels/public/simple/\n",
            "Collecting bing-image-downloader\n",
            "  Downloading bing_image_downloader-1.1.2-py3-none-any.whl (5.9 kB)\n",
            "Installing collected packages: bing-image-downloader\n",
            "Successfully installed bing-image-downloader-1.1.2\n"
          ]
        }
      ],
      "source": [
        "!pip install bing-image-downloader\n"
      ]
    },
    {
      "cell_type": "code",
      "execution_count": null,
      "metadata": {
        "id": "84xyZ-JU9Z3P",
        "colab": {
          "base_uri": "https://localhost:8080/"
        },
        "outputId": "2a3146d2-09b0-4db5-eef7-5eac82ea140a"
      },
      "outputs": [
        {
          "output_type": "stream",
          "name": "stdout",
          "text": [
            "Mounted at /content/drive\n"
          ]
        }
      ],
      "source": [
        "from google.colab import drive\n",
        "drive.mount('/content/drive')"
      ]
    },
    {
      "cell_type": "code",
      "source": [
        "!python --version"
      ],
      "metadata": {
        "colab": {
          "base_uri": "https://localhost:8080/"
        },
        "id": "xIWaeMqux1j2",
        "outputId": "0589f5b4-61d3-4999-9a47-d13798784787"
      },
      "execution_count": null,
      "outputs": [
        {
          "output_type": "stream",
          "name": "stdout",
          "text": [
            "Python 3.8.15\n"
          ]
        }
      ]
    },
    {
      "cell_type": "code",
      "execution_count": null,
      "metadata": {
        "colab": {
          "base_uri": "https://localhost:8080/",
          "height": 339
        },
        "id": "EnEGcf80Ma9Q",
        "outputId": "6fd81aff-a04f-4328-ac72-8d78c07fdb52"
      },
      "outputs": [
        {
          "output_type": "error",
          "ename": "ModuleNotFoundError",
          "evalue": "ignored",
          "traceback": [
            "\u001b[0;31m---------------------------------------------------------------------------\u001b[0m",
            "\u001b[0;31mModuleNotFoundError\u001b[0m                       Traceback (most recent call last)",
            "\u001b[0;32m<ipython-input-4-6581ea4734c3>\u001b[0m in \u001b[0;36m<module>\u001b[0;34m\u001b[0m\n\u001b[0;32m----> 1\u001b[0;31m \u001b[0;32mfrom\u001b[0m \u001b[0mbing_image_downloader\u001b[0m \u001b[0;32mimport\u001b[0m \u001b[0mdownloader\u001b[0m\u001b[0;34m\u001b[0m\u001b[0;34m\u001b[0m\u001b[0m\n\u001b[0m\u001b[1;32m      2\u001b[0m \u001b[0mdownloader\u001b[0m\u001b[0;34m.\u001b[0m\u001b[0mdownload\u001b[0m\u001b[0;34m(\u001b[0m\u001b[0;34m\"surgical apron\"\u001b[0m\u001b[0;34m,\u001b[0m \u001b[0mlimit\u001b[0m\u001b[0;34m=\u001b[0m\u001b[0;36m100\u001b[0m\u001b[0;34m,\u001b[0m  \u001b[0moutput_dir\u001b[0m\u001b[0;34m=\u001b[0m\u001b[0;34m'/content/gdrive/MyDrive/dataset/infectious'\u001b[0m\u001b[0;34m,\u001b[0m \u001b[0mforce_replace\u001b[0m\u001b[0;34m=\u001b[0m\u001b[0;32mFalse\u001b[0m\u001b[0;34m,\u001b[0m \u001b[0mtimeout\u001b[0m\u001b[0;34m=\u001b[0m\u001b[0;36m60\u001b[0m\u001b[0;34m,\u001b[0m \u001b[0mverbose\u001b[0m\u001b[0;34m=\u001b[0m\u001b[0;32mTrue\u001b[0m\u001b[0;34m)\u001b[0m\u001b[0;34m\u001b[0m\u001b[0;34m\u001b[0m\u001b[0m\n",
            "\u001b[0;31mModuleNotFoundError\u001b[0m: No module named 'bing_image_downloader'",
            "",
            "\u001b[0;31m---------------------------------------------------------------------------\u001b[0;32m\nNOTE: If your import is failing due to a missing package, you can\nmanually install dependencies using either !pip or !apt.\n\nTo view examples of installing some common dependencies, click the\n\"Open Examples\" button below.\n\u001b[0;31m---------------------------------------------------------------------------\u001b[0m\n"
          ],
          "errorDetails": {
            "actions": [
              {
                "action": "open_url",
                "actionText": "Open Examples",
                "url": "/notebooks/snippets/importing_libraries.ipynb"
              }
            ]
          }
        }
      ],
      "source": [
        "from bing_image_downloader import downloader\n",
        "downloader.download(\"surgical apron\", limit=100,  output_dir='/content/gdrive/MyDrive/dataset/infectious', force_replace=False, timeout=60, verbose=True)"
      ]
    },
    {
      "cell_type": "markdown",
      "source": [
        "mask\n",
        "gloves\n",
        "syringes\n",
        "surgical aprons"
      ],
      "metadata": {
        "id": "E1iDlCPc6IUi"
      }
    },
    {
      "cell_type": "code",
      "source": [
        "from bing_image_downloader import downloader\n",
        "list=[\"gloves\",\"syringe\",\" blood cotton\"]\n",
        "for i in list:\n",
        "  downloader.download(i,limit=10,output_dir='/content/drive/MyDrive/dataset',timeout=60,verbose=1)"
      ],
      "metadata": {
        "colab": {
          "base_uri": "https://localhost:8080/"
        },
        "id": "Srb3X5gh6Yhb",
        "outputId": "1729dc2d-788a-4502-e06e-63c2b8040dce"
      },
      "execution_count": null,
      "outputs": [
        {
          "output_type": "stream",
          "name": "stdout",
          "text": [
            "[%] Downloading Images to /content/drive/MyDrive/dataset/gloves\n",
            "\n",
            "\n",
            "[!!]Indexing page: 1\n",
            "\n",
            "[%] Indexed 8 Images on Page 1.\n",
            "\n",
            "===============================================\n",
            "\n",
            "[%] Downloading Image #1 from http://ww1.prweb.com/prfiles/2008/03/15/439624/FlagsuitSpaceSuitGloves.JPG\n",
            "[%] File Downloaded !\n",
            "\n",
            "[%] Downloading Image #2 from https://assets.myntassets.com/h_200,w_200,c_fill,g_auto/h_1440,q_100,w_1080/v1/assets/images/productimage/2020/6/7/2fa58405-e9fd-45fa-9ada-b299c5b33faa1591480531426-1.jpg\n",
            "[%] File Downloaded !\n",
            "\n",
            "[%] Downloading Image #3 from https://www.wowmogcompanion.com/sites/default/files/styles/original_size/public/sets/Frostfire_Regalia.jpg?itok=pOw7OEcP\n",
            "[%] File Downloaded !\n",
            "\n",
            "[%] Downloading Image #4 from https://www.mytuxedocatalog.com/wp-content/uploads/C991_A3-600x831.jpg\n",
            "[%] File Downloaded !\n",
            "\n",
            "[%] Downloading Image #5 from https://cdn.shopify.com/s/files/1/1935/3697/products/NASA_Apollo_Deluxe_Replica_A7L_Space_Suit_With_Anodized_Aluminum_Suit_Fittings_And_Gold_Reflective_Visor_600x.jpg?v=1505221288\n",
            "[%] File Downloaded !\n",
            "\n",
            "[%] Downloading Image #6 from https://content.instructables.com/ORIG/FZ3/WDEV/HAQ388AU/FZ3WDEVHAQ388AU.jpg?frame=1&amp;width=2100\n",
            "[%] File Downloaded !\n",
            "\n",
            "[%] Downloading Image #7 from https://designbysi.se/images/IMG_0469-p.JPG\n",
            "[%] File Downloaded !\n",
            "\n",
            "[%] Downloading Image #8 from https://www.pahls.com/wp-content/uploads/2020/02/Tropical_Angigozanthus-Kanga-Red-Kangaroo-Paw2.jpg\n",
            "[%] File Downloaded !\n",
            "\n",
            "\n",
            "\n",
            "[!!]Indexing page: 2\n",
            "\n",
            "[%] Indexed 8 Images on Page 2.\n",
            "\n",
            "===============================================\n",
            "\n",
            "\n",
            "\n",
            "[!!]Indexing page: 3\n",
            "\n",
            "[%] Indexed 10 Images on Page 3.\n",
            "\n",
            "===============================================\n",
            "\n",
            "[%] Downloading Image #9 from https://www.pmtech.co.uk/media/catalog/product/cache/1/image/9df78eab33525d08d6e5fb8d27136e95/c/o/cotton.jpg\n",
            "[%] File Downloaded !\n",
            "\n",
            "[%] Downloading Image #10 from https://media1.chapellerie-traclet.com/64552-thickbox_default/glove.jpg\n",
            "[%] File Downloaded !\n",
            "\n",
            "\n",
            "\n",
            "[%] Done. Downloaded 10 images.\n",
            "[%] Downloading Images to /content/drive/MyDrive/dataset/syringe\n",
            "\n",
            "\n",
            "[!!]Indexing page: 1\n",
            "\n",
            "[%] Indexed 10 Images on Page 1.\n",
            "\n",
            "===============================================\n",
            "\n",
            "[%] Downloading Image #1 from https://labsuppliesusa.com/wp-content/uploads/2018/06/10mlsyringe-1024x646.jpg\n",
            "[%] File Downloaded !\n",
            "\n",
            "[%] Downloading Image #2 from http://i228.photobucket.com/albums/ee80/leontieflovers/Syringe1.jpg\n",
            "[Error]Invalid image, not saving http://i228.photobucket.com/albums/ee80/leontieflovers/Syringe1.jpg\n",
            "\n",
            "[!] Issue getting: http://i228.photobucket.com/albums/ee80/leontieflovers/Syringe1.jpg\n",
            "[!] Error:: Invalid image, not saving http://i228.photobucket.com/albums/ee80/leontieflovers/Syringe1.jpg\n",
            "\n",
            "[%] Downloading Image #2 from http://rx-wiki.org/images/5/51/Syringes.jpg\n",
            "[%] File Downloaded !\n",
            "\n",
            "[%] Downloading Image #3 from http://www.geocities.ws/medical_supplies_equipment/images/Syringes.jpg\n",
            "[%] File Downloaded !\n",
            "\n",
            "[%] Downloading Image #4 from http://vignette2.wikia.nocookie.net/battlefield/images/d/d1/Syringe_IRL.jpg/revision/latest?cb=20120711233928\n",
            "[%] File Downloaded !\n",
            "\n",
            "[%] Downloading Image #5 from https://www.asphealthcare.com.au/wp-content/uploads/2013/11/BD-10ml-luerlock.jpg\n",
            "[%] File Downloaded !\n",
            "\n",
            "[%] Downloading Image #6 from https://images.stockfreeimages.com/431/sfixl/4312281.jpg\n",
            "[%] File Downloaded !\n",
            "\n",
            "[%] Downloading Image #7 from http://www.neatorama.com/wp-content/uploads/2012/07/nutella-syringe-500x500.jpg\n",
            "[%] File Downloaded !\n",
            "\n",
            "[%] Downloading Image #8 from https://www.diyhappy.com/wp-content/uploads/2019/09/ear-wax-removal-using-an-ear-syringe-416x260.png\n",
            "[%] File Downloaded !\n",
            "\n",
            "[%] Downloading Image #9 from https://media.gettyimages.com/photos/syringe-picture-id184287080?s=170667a\n",
            "[%] File Downloaded !\n",
            "\n",
            "\n",
            "\n",
            "[!!]Indexing page: 2\n",
            "\n",
            "[%] Indexed 17 Images on Page 2.\n",
            "\n",
            "===============================================\n",
            "\n",
            "[%] Downloading Image #10 from http://www.irunoninsulin.com/wp-content/uploads/2011/08/syringe.jpg\n",
            "[%] File Downloaded !\n",
            "\n",
            "\n",
            "\n",
            "[%] Done. Downloaded 10 images.\n",
            "[%] Downloading Images to /content/drive/MyDrive/dataset/ blood cotton\n",
            "\n",
            "\n",
            "[!!]Indexing page: 1\n",
            "\n",
            "[%] Indexed 10 Images on Page 1.\n",
            "\n",
            "===============================================\n",
            "\n",
            "[%] Downloading Image #1 from https://thumbs.dreamstime.com/b/medical-cotton-wool-traces-blood-white-background-36174897.jpg\n",
            "[%] File Downloaded !\n",
            "\n",
            "[%] Downloading Image #2 from https://www.wikihow.com/images/thumb/f/f4/Get-Blood-out-of-Cotton-Step-4.jpg/aid696641-v4-728px-Get-Blood-out-of-Cotton-Step-4.jpg\n",
            "[%] File Downloaded !\n",
            "\n",
            "[%] Downloading Image #3 from https://www.wikihow.com/images/thumb/e/e6/Get-Blood-out-of-Cotton-Step-18.jpg/aid696641-v4-728px-Get-Blood-out-of-Cotton-Step-18.jpg\n",
            "[%] File Downloaded !\n",
            "\n",
            "[%] Downloading Image #4 from https://image.shutterstock.com/image-photo/cotton-pad-blood-on-white-260nw-1187865229.jpg\n",
            "[Error]Invalid image, not saving https://image.shutterstock.com/image-photo/cotton-pad-blood-on-white-260nw-1187865229.jpg\n",
            "\n",
            "[!] Issue getting: https://image.shutterstock.com/image-photo/cotton-pad-blood-on-white-260nw-1187865229.jpg\n",
            "[!] Error:: Invalid image, not saving https://image.shutterstock.com/image-photo/cotton-pad-blood-on-white-260nw-1187865229.jpg\n",
            "\n",
            "[%] Downloading Image #4 from https://i.pinimg.com/736x/c9/44/ed/c944edac8505ca711bf5b36b16d2603d.jpg\n",
            "[%] File Downloaded !\n",
            "\n",
            "[%] Downloading Image #5 from https://www.wikihow.com/images/thumb/e/ed/Get-Blood-out-of-Cotton-Step-6.jpg/aid696641-v4-728px-Get-Blood-out-of-Cotton-Step-6.jpg\n",
            "[%] File Downloaded !\n",
            "\n",
            "[%] Downloading Image #6 from https://2.bp.blogspot.com/-lRW3kbHJWH8/UzLOlSfrDtI/AAAAAAAAJyk/FXyF_EmU-vg/s1600/DSC09102.JPG\n",
            "[%] File Downloaded !\n",
            "\n",
            "[%] Downloading Image #7 from http://cdn.shopify.com/s/files/1/0424/3101/products/Ace_CU1_grande.jpg?v=1570135305\n",
            "[%] File Downloaded !\n",
            "\n",
            "[%] Downloading Image #8 from https://bjo.bmj.com/content/bjophthalmol/89/2/248/F2.large.jpg?width=800&amp;height=600&amp;carousel=1\n",
            "[%] File Downloaded !\n",
            "\n",
            "[%] Downloading Image #9 from https://bodypiercingmag.com/wp-content/uploads/2016/02/Bindi-Piercing.jpg\n",
            "[%] File Downloaded !\n",
            "\n",
            "\n",
            "\n",
            "[!!]Indexing page: 2\n",
            "\n",
            "[%] Indexed 14 Images on Page 2.\n",
            "\n",
            "===============================================\n",
            "\n",
            "[%] Downloading Image #10 from https://townsquare.media/site/443/files/2017/02/WayneCoyneFeatured.jpg?w=1200&amp;h=0&amp;zc=1&amp;s=0&amp;a=t&amp;q=89\n",
            "[%] File Downloaded !\n",
            "\n",
            "\n",
            "\n",
            "[%] Done. Downloaded 10 images.\n"
          ]
        }
      ]
    },
    {
      "cell_type": "code",
      "source": [
        "dir = \"/content/drive/MyDrive/dataset\""
      ],
      "metadata": {
        "id": "lqJ1L-fM9bh1"
      },
      "execution_count": null,
      "outputs": []
    },
    {
      "cell_type": "markdown",
      "source": [
        "jpg to jpeg"
      ],
      "metadata": {
        "id": "sN5NK-z-jAw8"
      }
    },
    {
      "cell_type": "code",
      "source": [
        "directory = r'drive/My Drive/dataset/hazardous' \n",
        "\n",
        "files = os.listdir(directory)\n",
        "\n",
        "\n",
        "# Then you rename the files \n",
        "for file_name in files:\n",
        "    # You give the full path of the file\n",
        "    old_name = os.path.join(directory, file_name)\n",
        "\n",
        "    # You CHANGE the extension\n",
        "    new_name = old_name.replace('.jpg', '.jpeg')\n",
        "    os.rename(old_name, new_name)"
      ],
      "metadata": {
        "id": "9REQlQ29i24l"
      },
      "execution_count": null,
      "outputs": []
    }
  ],
  "metadata": {
    "colab": {
      "provenance": []
    },
    "kernelspec": {
      "display_name": "Python 3",
      "name": "python3"
    },
    "language_info": {
      "name": "python"
    }
  },
  "nbformat": 4,
  "nbformat_minor": 0
}